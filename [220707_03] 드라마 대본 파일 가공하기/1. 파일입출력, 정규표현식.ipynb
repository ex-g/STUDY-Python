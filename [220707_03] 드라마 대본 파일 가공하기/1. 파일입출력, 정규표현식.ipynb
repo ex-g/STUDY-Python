{
 "cells": [
  {
   "cell_type": "markdown",
   "id": "9f5d090c-def7-434c-8e43-55b3a9af1d7e",
   "metadata": {},
   "source": [
    "# 2022.07.07(목) | Do it! 파이썬 생활 프로그래밍"
   ]
  },
  {
   "cell_type": "markdown",
   "id": "a9a4bbf9-1c23-4f65-a19a-6a8f73fe57d7",
   "metadata": {},
   "source": [
    "## Intro.\n",
    "#### Chapter 03. 텍스트 파일 가공하기\n",
    "#### Task : 드라마 대본 파일 가공하기"
   ]
  },
  {
   "cell_type": "markdown",
   "id": "9b37998b-3673-40a6-b67e-c88bf2182141",
   "metadata": {},
   "source": [
    "<hr>"
   ]
  },
  {
   "cell_type": "markdown",
   "id": "85c00728-b120-4b48-bc68-e2450166785f",
   "metadata": {},
   "source": [
    "### 03-1 파일 입출력 연습하기\n",
    "- 코딩한 결과물을 원하는 위치에 저장하고 찾을 수 있어야 함."
   ]
  },
  {
   "cell_type": "markdown",
   "id": "11334224-ba8b-45e6-a7fd-e59397c09f76",
   "metadata": {},
   "source": [
    "#### 1) os 모듈 : 운영체제(OS)에서 제공하는 기본적인 기능을 사용할 수 있는 여러 명령과 함수가 들어있음\n",
    "- 현재 파이썬이 실행되는 위치를 확인할 때\n",
    "- 특정 폴더로 이동하고 싶을 때\n",
    "- 현재 폴더에 있는 파일들을 리스트 형태로 저장할 때"
   ]
  },
  {
   "cell_type": "code",
   "execution_count": 7,
   "id": "2f37692e-6786-4103-a83b-1e8f61571eee",
   "metadata": {},
   "outputs": [
    {
     "data": {
      "text/plain": [
       "'C:\\\\Users\\\\82109\\\\Do it! 파이썬 생활 프로그래밍\\\\[220707_03] 드라마 대본 파일 가공하기'"
      ]
     },
     "execution_count": 7,
     "metadata": {},
     "output_type": "execute_result"
    }
   ],
   "source": [
    "# 현재 위치 확인하기\n",
    "import os\n",
    "os.getcwd()"
   ]
  },
  {
   "cell_type": "code",
   "execution_count": 8,
   "id": "84df3ad1-7b72-45f2-a6a8-41005e532a0b",
   "metadata": {},
   "outputs": [],
   "source": [
    "# 폴더 이동하기 : 이미 저장하고자 하는 폴더에 와 있으므로 주석처리\n",
    "# os.chdir()\n",
    "# 괄호 안에 복사한 주소 입력시, \\를 하나씩 더 붙여서 오류에 대비한다. (주소 맨 앞에 r을 붙여도 됨)"
   ]
  },
  {
   "cell_type": "code",
   "execution_count": 11,
   "id": "581cb757-30cd-4e0c-9305-91779edbc4cb",
   "metadata": {},
   "outputs": [
    {
     "data": {
      "text/plain": [
       "['.ipynb_checkpoints', '드라마 대본 파일 가공하기.ipynb']"
      ]
     },
     "execution_count": 11,
     "metadata": {},
     "output_type": "execute_result"
    }
   ],
   "source": [
    "# 폴더 안의 파일 확인하기\n",
    "os.listdir()"
   ]
  },
  {
   "cell_type": "markdown",
   "id": "278b845e-b5a3-436b-bd32-b2932c118ff0",
   "metadata": {},
   "source": [
    "#### 2) 파일 열고 닫기 "
   ]
  },
  {
   "cell_type": "code",
   "execution_count": 16,
   "id": "7c2c3734-1f30-4840-b698-87473d522160",
   "metadata": {},
   "outputs": [
    {
     "data": {
      "text/plain": [
       "19"
      ]
     },
     "execution_count": 16,
     "metadata": {},
     "output_type": "execute_result"
    }
   ],
   "source": [
    "# 파일 열기\n",
    "# 파일 객체 = open('파일 이름', 파일 열기 모드)\n",
    "f = open('today.txt', 'w', encoding = 'utf-8')\n",
    "f.write(\"today 텍스트 파일에 쓸 문자열\")"
   ]
  },
  {
   "cell_type": "code",
   "execution_count": 17,
   "id": "7ed40f85-409d-4a03-8f77-90a71dff6f2f",
   "metadata": {},
   "outputs": [],
   "source": [
    "# 파일 닫기\n",
    "f.close()"
   ]
  },
  {
   "cell_type": "code",
   "execution_count": 28,
   "id": "0d92622b-58ad-40d1-aeb0-53e6d8cb12bd",
   "metadata": {},
   "outputs": [
    {
     "data": {
      "text/plain": [
       "14"
      ]
     },
     "execution_count": 28,
     "metadata": {},
     "output_type": "execute_result"
    }
   ],
   "source": [
    "# 파일 열기 모드 - 'w'\n",
    "f = open('today.txt', 'w', encoding = 'utf-8')\n",
    "f.write(\"파일 열기 모드 - 'w'\")"
   ]
  },
  {
   "cell_type": "code",
   "execution_count": 29,
   "id": "4782fda6-0838-4f87-8f7a-e6a17f68247e",
   "metadata": {},
   "outputs": [
    {
     "name": "stdout",
     "output_type": "stream",
     "text": [
      "첫 번째 read :  파일 열기 모드 - 'w'\n",
      "두 번째 read :   (커서가 맨 뒤에 있어서 내용 출력 x)\n",
      "세 번째 read :  파일 열기 모드 - 'w'\n"
     ]
    }
   ],
   "source": [
    "# 파일 읽기 모드 - 'r'\n",
    "f = open('today.txt', 'r', encoding = 'utf-8')\n",
    "print(\"첫 번째 read : \", f.read())\n",
    "print(\"두 번째 read : \", f.read(), \"(커서가 맨 뒤에 있어서 내용 출력 x)\")\n",
    "f.seek(0) # 커서 위치 맨 처음으로 옮기기\n",
    "print(\"세 번째 read : \", f.read())\n",
    "f.close()"
   ]
  },
  {
   "cell_type": "code",
   "execution_count": 30,
   "id": "14cae976-6796-4d7f-a2d0-4f25d1a01dc6",
   "metadata": {},
   "outputs": [
    {
     "name": "stdout",
     "output_type": "stream",
     "text": [
      "[\"파일 열기 모드 - 'w'파일 내용 추가하기 - 'a'\"]\n"
     ]
    }
   ],
   "source": [
    "# 파일 내용 추가 모드 - 'a'\n",
    "f = open('today.txt', 'a', encoding = 'utf-8')\n",
    "f.write(\"파일 내용 추가하기 - 'a'\")\n",
    "f.close()\n",
    "f = open('today.txt', 'r', encoding = 'utf-8')\n",
    "print(f.readlines())\n",
    "f.close()"
   ]
  },
  {
   "cell_type": "code",
   "execution_count": 31,
   "id": "80b5ddf3-0174-4704-916a-f92c8442621c",
   "metadata": {},
   "outputs": [
    {
     "name": "stdout",
     "output_type": "stream",
     "text": [
      "with문 사용법\n"
     ]
    }
   ],
   "source": [
    "# with문 사용법\n",
    "# with open(파일 이름, 파일 열기 모드) as f:\n",
    "#    (f에 수행할 명령)\n",
    "\n",
    "with open('with_test.txt', 'w', encoding = 'utf-8') as f:\n",
    "    f.write(\"with문 사용법\")\n",
    "with open('with_test.txt', 'r', encoding = 'utf-8') as f:\n",
    "    print(f.read())"
   ]
  },
  {
   "cell_type": "markdown",
   "id": "e253ffcb-f266-43f9-af1f-2b1ef61c41c4",
   "metadata": {},
   "source": [
    "### 03-2 정규표현식으로 문자열 다루기\n",
    "- regular expression, regexp, regex, rational expression\n",
    "- 특정한 문자의 규칙을 찾고 가공하는 방법 (텍스트를 다루는 강력한 도구)\n",
    "- method\n",
    "    - match : 문자열 도입에서 패턴 찾기\n",
    "    - search : 문자열 전체에서 패턴 찾기\n",
    "    - findall : 패턴을 모두 찾아 리스트로 반환하기\n",
    "    \n",
    "- 패턴을 찾는 정규표현식\n",
    "    - \\d : 숫자와 매치 [0-9] (<-> \\D)\n",
    "    - \\s : whitespace 문자와 매치 [ \\t\\n\\r\\f\\v] (<-> \\S)\n",
    "    - \\w : 문자 + 숫자와 매치 [a-zA-Z0-9] (<-> \\W)\n",
    "    - \\\\ : 메타 문자가 아닌 일반 문자 역슬래시(\\)와 매치"
   ]
  },
  {
   "cell_type": "code",
   "execution_count": 1,
   "id": "1d3d959d-9b08-470c-add8-51180919e2ef",
   "metadata": {},
   "outputs": [
    {
     "name": "stdout",
     "output_type": "stream",
     "text": [
      "life\n"
     ]
    }
   ],
   "source": [
    "import re # 정규표현식 모듈\n",
    "\n",
    "# match\n",
    "def match(pattern, script):\n",
    "    if re.match(pattern, script):\n",
    "        return re.match(pattern, script).group() # 매치된 내용을 반환하는 함수 : group()\n",
    "    else:\n",
    "        return \"Not a match!\"\n",
    "        \n",
    "pattern = r'life'\n",
    "# pattern = r'live' # > not a match!\n",
    "script = 'life is beautiful'\n",
    "print(match(pattern, script))"
   ]
  },
  {
   "cell_type": "code",
   "execution_count": 2,
   "id": "c8536b7f-c41b-4fb2-aca0-946df65daf33",
   "metadata": {},
   "outputs": [
    {
     "name": "stdout",
     "output_type": "stream",
     "text": [
      "is\n"
     ]
    }
   ],
   "source": [
    "# search\n",
    "def search(pattern, script):\n",
    "    if re.search(pattern, script):\n",
    "        return re.search(pattern, script).group()\n",
    "    else:\n",
    "        return \"no...\"\n",
    "    \n",
    "pattern = r'is' # script 중간에 있는 문자열\n",
    "# pattern = r'lifes' # > no...\n",
    "script = 'life is beautiful'\n",
    "print(search(pattern, script))"
   ]
  },
  {
   "cell_type": "code",
   "execution_count": 3,
   "id": "e198d2d2-0dce-46ed-8853-e6bb70bb8cfc",
   "metadata": {},
   "outputs": [
    {
     "data": {
      "text/plain": [
       "['123456', '987654']"
      ]
     },
     "execution_count": 3,
     "metadata": {},
     "output_type": "execute_result"
    }
   ],
   "source": [
    "# findall\n",
    "number = \"Mine : 123456-3*****, Yours : 987654-7*****\"\n",
    "re.findall('\\d{6}', number) # number에서 숫자를 여섯 번 반복한 값을 찾아 리스트로 반환"
   ]
  },
  {
   "cell_type": "code",
   "execution_count": 4,
   "id": "4ad8f013-5648-4284-adec-99bbe6249392",
   "metadata": {},
   "outputs": [
    {
     "data": {
      "text/plain": [
       "['조금 다른 나를 만나게 해줄게', ' Cause I feel so good', '']"
      ]
     },
     "execution_count": 4,
     "metadata": {},
     "output_type": "execute_result"
    }
   ],
   "source": [
    "# split\n",
    "sent = \"조금 다른 나를 만나게 해줄게. Cause I feel so good.\"\n",
    "re.split(r'[.?!]', sent)"
   ]
  },
  {
   "cell_type": "code",
   "execution_count": 6,
   "id": "61cc982f-bd2f-4841-9474-312e139ac353",
   "metadata": {},
   "outputs": [
    {
     "data": {
      "text/plain": [
       "'철수야 철수야 어디가?'"
      ]
     },
     "execution_count": 6,
     "metadata": {},
     "output_type": "execute_result"
    }
   ],
   "source": [
    "# sub\n",
    "sent2 = \"영희야 영희야 어디가?\"\n",
    "re.sub(\"영희\", \"철수\", sent2)"
   ]
  },
  {
   "cell_type": "code",
   "execution_count": 7,
   "id": "ed6aa1d8-3fc8-44bb-b047-d1940a97d258",
   "metadata": {},
   "outputs": [
    {
     "data": {
      "text/plain": [
       "['lovely', 'really']"
      ]
     },
     "execution_count": 7,
     "metadata": {},
     "output_type": "execute_result"
    }
   ],
   "source": [
    "# ly로 끝나는 단어 추출하기\n",
    "sentence = \"I have a lovely dog, really. I am not telling a lie.\"\n",
    "re.findall(r'\\w+ly', sentence)"
   ]
  },
  {
   "cell_type": "markdown",
   "id": "6f71dc7f-b747-4b7d-95f6-0d056777fa43",
   "metadata": {},
   "source": [
    "<hr>"
   ]
  },
  {
   "cell_type": "markdown",
   "id": "41cab602-9c65-4710-b149-336cfe3b3fc1",
   "metadata": {},
   "source": [
    "## Outro.\n",
    "- 03-3 드라마 대본 텍스트 파일 가공하기는 따로 파일을 만듦."
   ]
  }
 ],
 "metadata": {
  "kernelspec": {
   "display_name": "Python 3 (ipykernel)",
   "language": "python",
   "name": "python3"
  },
  "language_info": {
   "codemirror_mode": {
    "name": "ipython",
    "version": 3
   },
   "file_extension": ".py",
   "mimetype": "text/x-python",
   "name": "python",
   "nbconvert_exporter": "python",
   "pygments_lexer": "ipython3",
   "version": "3.8.12"
  }
 },
 "nbformat": 4,
 "nbformat_minor": 5
}
