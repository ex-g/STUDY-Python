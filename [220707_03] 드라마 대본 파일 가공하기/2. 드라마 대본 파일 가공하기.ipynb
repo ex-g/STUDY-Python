{
 "cells": [
  {
   "cell_type": "markdown",
   "id": "98f5e661-6242-48a4-8775-a9340be50461",
   "metadata": {},
   "source": [
    "# 2022.07.08(금) | Do it! 파이썬 생활 프로그래밍"
   ]
  },
  {
   "cell_type": "markdown",
   "id": "db3b0306-dbeb-4063-aff7-603a22d50818",
   "metadata": {
    "tags": []
   },
   "source": [
    "## 03-3 드라마 대본 텍스트 파일 가공하기\n",
    "- 등장인물 리스트 만들기\n",
    "- 지문만 따로 모으기\n",
    "- 특정 단어가 들어 있는 대사만 모으기"
   ]
  },
  {
   "cell_type": "code",
   "execution_count": 3,
   "id": "382e9f55-e4e2-4d13-853b-c184178f9c56",
   "metadata": {},
   "outputs": [
    {
     "data": {
      "text/plain": [
       "'The One Where Monica Gets a New Roommate (The Pilot-The Uncut Version)\\r\\nWritten by: Marta Kauffman &'"
      ]
     },
     "execution_count": 3,
     "metadata": {},
     "output_type": "execute_result"
    }
   ],
   "source": [
    "import os, re, codecs\n",
    "f = codecs.open('friends101.txt', 'r', encoding='utf-8')\n",
    "script101 = f.read()\n",
    "script101[:100]"
   ]
  },
  {
   "cell_type": "markdown",
   "id": "eebc2d7d-4a55-4980-927c-b04d5270db1b",
   "metadata": {},
   "source": [
    "### Step 1. 특정 등장인물의 대사만 모으기"
   ]
  },
  {
   "cell_type": "code",
   "execution_count": 4,
   "id": "ac216d74-30a5-4b51-b5a8-8c6e14530b8f",
   "metadata": {},
   "outputs": [
    {
     "name": "stdout",
     "output_type": "stream",
     "text": [
      "[\"Monica: There's nothing to tell! He's just some guy I work with!\\r\", \"Monica: Okay, everybody relax. This is not even a date. It's just two people going out to dinner and- not having sex.\\r\", \"Monica: And they weren't looking at you before?!\\r\"]\n"
     ]
    }
   ],
   "source": [
    "Line = re.findall(r'Monica:.+', script101) # 'Monica:'로 시작하는 대사를 모두 찾아 리스트로 변환\n",
    "print(Line[:3])"
   ]
  },
  {
   "cell_type": "code",
   "execution_count": 5,
   "id": "eb95420b-ee16-4539-b043-e9748ffa1e71",
   "metadata": {},
   "outputs": [],
   "source": [
    "monica = ''\n",
    "for i in Line:\n",
    "    monica += i + '\\n'\n",
    "    \n",
    "monica[:100]\n",
    "\n",
    "f = open('monica.txt', 'w', encoding = 'utf-8')\n",
    "f.write(monica)\n",
    "f.close()"
   ]
  },
  {
   "cell_type": "markdown",
   "id": "c49dc119-d9c1-403e-940c-16577d29b9b8",
   "metadata": {},
   "source": [
    "### Step 2. 등장인물 리스트 만들기"
   ]
  },
  {
   "cell_type": "code",
   "execution_count": 11,
   "id": "c4eed1ad-43f9-4348-bb4e-eef4eac11492",
   "metadata": {},
   "outputs": [
    {
     "name": "stdout",
     "output_type": "stream",
     "text": [
      "['Paul', 'Waitress', 'Scene', 'Chandler', 'Customer', 'Rachel', 'Monica', 'Phoebe', 'Ross', 'Frannie', 'Joey']\n"
     ]
    }
   ],
   "source": [
    "character = [c[:-1] for c in list(set(re.findall(f'[A-Z][a-z]+:', script101)))] \n",
    "# 등장인물은 스크립트에서 '(이름) :'으로 된 곳에서 찾으면 되므로, 적절한 정규표현식을 이용해준다.\n",
    "character.remove('Note')\n",
    "character.remove('All') # 등장인물의 이름이 아닌 것은 지워준다.\n",
    "print(character)"
   ]
  },
  {
   "cell_type": "markdown",
   "id": "a4cd2e3e-5d65-4341-a3ba-43a32b21ca0e",
   "metadata": {},
   "source": [
    "### Step 3. 지문만 출력하기"
   ]
  },
  {
   "cell_type": "code",
   "execution_count": 16,
   "id": "dd64e3e2-506b-4546-8c5e-37b4cfbae8d2",
   "metadata": {},
   "outputs": [
    {
     "name": "stdout",
     "output_type": "stream",
     "text": [
      "['(The Pilot-The Uncut Version)', '(Note: The previously unseen parts of this episode are shown in blue text.)', '(They all stare, bemused.)', '(mortified)', '(explaining to the others)', '(to Ross)', '(She starts to pluck at the air just in front of Ross.)', '(They all stare at him.)', '(Ross gestures his consent.)', '(Rachel enters in a wet wedding dress and starts to search the room.)']\n"
     ]
    }
   ],
   "source": [
    "print(re.findall(r'\\([A-Za-z].+[a-z|\\.]\\)', script101)[:10])\n",
    "f.close()\n",
    "# 괄호를 메타 문자로 인식하지 않게 \\를 써준다.\n",
    "# 공백없이 영문자가 온 뒤, 문자/숫자/빈칸이 자유롭게 반복된다.\n",
    "# 맨 끝에는 소문자나 온점이 온다"
   ]
  },
  {
   "cell_type": "markdown",
   "id": "bd62c510-2bb1-444d-8e69-774dacf915ff",
   "metadata": {},
   "source": [
    "### Step 4. 특정 단어의 예문만 모아 파일로 저장하기"
   ]
  },
  {
   "cell_type": "code",
   "execution_count": 20,
   "id": "867cfb25-89cc-4393-9453-cf10c2a4811f",
   "metadata": {},
   "outputs": [
    {
     "name": "stdout",
     "output_type": "stream",
     "text": [
      "[\"Monica: There's nothing to tell! He's just some guy I work with!\\n\", \"Joey: C'mon, you're going out with the guy! There's gotta be something wrong with him!\\n\", 'Chandler: All right Joey, be nice.  So does he have a hump? A hump and a hairpiece?\\n', 'Phoebe: Wait, does he eat chalk?\\n', \"Phoebe: Just, 'cause, I don't want her to go through what I went through with Carl- oh!\\n\", \"Monica: Okay, everybody relax. This is not even a date. It's just two people going out to dinner and- not having sex.\\n\", 'Chandler: Sounds like a date to me.\\n', \"Chandler: Alright, so I'm back in high school, I'm standing in the middle of the cafeteria, and I realize I am totally naked.\\n\", 'All: Oh, yeah. Had that dream.\\n', \"Chandler: Then I look down, and I realize there's a phone... there.\\n\"]\n"
     ]
    }
   ],
   "source": [
    "f = open('friends101.txt', 'r', encoding = 'utf-8')\n",
    "sentences = f.readlines()\n",
    "lines = [l for l in sentences if re.match(r'[A-Z][a-z]+:', l)]\n",
    "# 정규표현식으로 대본에서 대사만 추출해오기\n",
    "print(lines[:10])"
   ]
  },
  {
   "cell_type": "code",
   "execution_count": 25,
   "id": "64c7dc37-a094-4817-979c-1d98f924fa37",
   "metadata": {},
   "outputs": [
    {
     "name": "stdout",
     "output_type": "stream",
     "text": [
      "would가 들어간 대사 :  [\"Rachel: Ooh, I was kinda hoping that wouldn't be an issue... [Scene: Monica's Apartment, everyone is there and watching a Spanish Soap on TV and are trying to figure out what is going on.]\\n\", \"Chandler: I would have to say that is an 'L'-shaped bracket.\\n\", 'Monica: Why?! Why? Why, why would anybody do something like that?\\n', 'Rachel: You would be too if you found John and David boots on sale, fifty percent off!\\n', 'Ross: Oh. Listen, do you think- and try not to let my intense vulnerability become any kind of a factor here- but do you think it would be okay if I asked you out? Sometime? Maybe?\\n', \"Joey: Oh, you wouldn't know a great butt if it came up and bit ya.\\n\"]\n",
      "\n",
      "\n",
      "take가 들어간 대사 :  ['Ross: I told mom and dad last night, they seemed to take it pretty well.\\n', \"Paul: Well, ever-ev-... ever since she left me, um, I haven't been able to, uh, perform. (Monica takes a sip of her drink.) ...Sexually.\\n\", 'Joey: I will not take this abuse. (Walks to the door and opens it to leave.)\\n', \"Frannie: Are you kidding? I take credit for Paul. Y'know before me, there was no snap in his turtle for two years.\\n\"]\n"
     ]
    }
   ],
   "source": [
    "# 'would'가 들어간 대사만 추출하기\n",
    "would = [w for w in lines if re.search('would', w)]\n",
    "print('would가 들어간 대사 : ', would)\n",
    "\n",
    "print(\"\\n\")\n",
    "\n",
    "# 'take'가 들어간 대사만 추출하기\n",
    "take = [t for t in lines if re.search('take', t)]\n",
    "print('take가 들어간 대사 : ', take)\n",
    "f.close()"
   ]
  },
  {
   "cell_type": "code",
   "execution_count": 26,
   "id": "49ac9689-e76d-407b-b451-b892a63633fa",
   "metadata": {},
   "outputs": [],
   "source": [
    "# writelines 이용하여 'would'가 들어간 대사만 저장하기\n",
    "newf = open('would.txt', 'w')\n",
    "newf.writelines(would)\n",
    "newf.close()"
   ]
  }
 ],
 "metadata": {
  "kernelspec": {
   "display_name": "Python 3 (ipykernel)",
   "language": "python",
   "name": "python3"
  },
  "language_info": {
   "codemirror_mode": {
    "name": "ipython",
    "version": 3
   },
   "file_extension": ".py",
   "mimetype": "text/x-python",
   "name": "python",
   "nbconvert_exporter": "python",
   "pygments_lexer": "ipython3",
   "version": "3.8.12"
  }
 },
 "nbformat": 4,
 "nbformat_minor": 5
}
