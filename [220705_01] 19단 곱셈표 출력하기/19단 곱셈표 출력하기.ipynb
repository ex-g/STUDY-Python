{
 "cells": [
  {
   "cell_type": "markdown",
   "id": "7e06bd28-4637-4682-9a7c-af14226c805f",
   "metadata": {},
   "source": [
    "# 2022.07.05(화) | Do it! 파이썬 생활 프로그래밍"
   ]
  },
  {
   "cell_type": "markdown",
   "id": "4aa37693-3f69-4364-bdfc-9d984a71ae39",
   "metadata": {},
   "source": [
    "## Intro.\n",
    "#### Chapter 02. 기초 문법으로 프로그램 만들기\n",
    "#### Task : 19단 곱셈표 출력하기"
   ]
  },
  {
   "cell_type": "markdown",
   "id": "4f500a58-46ee-43d9-b10d-67e492535ef3",
   "metadata": {},
   "source": [
    "<hr>"
   ]
  },
  {
   "cell_type": "markdown",
   "id": "643536b1-9cc1-4439-a7fd-3cc5543ab425",
   "metadata": {
    "tags": []
   },
   "source": [
    "### 1. 파이썬 연산자"
   ]
  },
  {
   "cell_type": "code",
   "execution_count": 1,
   "id": "dd1724fc-fd74-47ce-9308-ce2b76ae2a1f",
   "metadata": {},
   "outputs": [
    {
     "name": "stdout",
     "output_type": "stream",
     "text": [
      "7\n",
      "3\n",
      "10\n",
      "25\n",
      "2.5\n",
      "2\n",
      "1\n"
     ]
    }
   ],
   "source": [
    "# 파이썬 기본 연산자\n",
    "print(5 + 2)\n",
    "print(5 - 2)\n",
    "print(5 * 2)\n",
    "print(5 ** 2)\n",
    "print(5 / 2) # 나누기\n",
    "print(5 // 2) # 나눗셈의 몫\n",
    "print(5 % 2) # 나눗셈의 나머지"
   ]
  },
  {
   "cell_type": "code",
   "execution_count": 5,
   "id": "4e429e20-c969-425a-ade5-a254a7d944ec",
   "metadata": {},
   "outputs": [
    {
     "name": "stdout",
     "output_type": "stream",
     "text": [
      "True\n",
      "True\n",
      "False\n",
      "True\n",
      "True\n",
      "False\n"
     ]
    }
   ],
   "source": [
    "# 파이썬 비교 연산자\n",
    "print(2 < 5)\n",
    "print(5 > 2)\n",
    "print(5 == 2)\n",
    "print(5 != 2)\n",
    "print(5 >= 2)\n",
    "print(5 <= 2)"
   ]
  },
  {
   "cell_type": "markdown",
   "id": "29e7a5f8-ff55-4514-a4b9-88fe45484369",
   "metadata": {},
   "source": [
    "### 2. 파이썬을 계산기로 활용하기"
   ]
  },
  {
   "cell_type": "code",
   "execution_count": 8,
   "id": "80e5775b-52c6-4609-9d27-67d828a43d6d",
   "metadata": {},
   "outputs": [
    {
     "name": "stdout",
     "output_type": "stream",
     "text": [
      "201.0\n",
      "37.666666666666664\n",
      "37\n",
      "37.7\n"
     ]
    }
   ],
   "source": [
    "#직관적 코드\n",
    "print(50 + 45 + 33 + 39 + 29 + 30 / 6)\n",
    "\n",
    "#괄호 사용\n",
    "print((50 + 45 + 33 + 39 + 29 + 30) / 6)\n",
    "\n",
    "#나머지 필요 없을 때\n",
    "print((50 + 45 + 33 + 39 + 29 + 30) // 6)\n",
    "\n",
    "#소수점 첫째 자리까지 구하고 싶을 때\n",
    "print(round((50 + 45 + 33 + 39 + 29 + 30) / 6, 1))"
   ]
  },
  {
   "cell_type": "markdown",
   "id": "8473f705-0a97-4e8e-a469-c3db26eb9d16",
   "metadata": {},
   "source": [
    "### 3. 19단 곱셈표 출력하기\n",
    "- 책에는 19단 출력으로 나와 있지만 출력물 단순화를 위해 9단까지만 출력함."
   ]
  },
  {
   "cell_type": "code",
   "execution_count": 20,
   "id": "827d69fe-94f7-467a-b724-059601466a8f",
   "metadata": {},
   "outputs": [
    {
     "name": "stdout",
     "output_type": "stream",
     "text": [
      "==== 2 단=====\n",
      "2 X 1 = 2\n",
      "2 X 2 = 4\n",
      "2 X 3 = 6\n",
      "2 X 4 = 8\n",
      "2 X 5 = 10\n",
      "2 X 6 = 12\n",
      "2 X 7 = 14\n",
      "2 X 8 = 16\n",
      "2 X 9 = 18\n",
      "\n",
      "\n",
      "==== 3 단=====\n",
      "3 X 1 = 3\n",
      "3 X 2 = 6\n",
      "3 X 3 = 9\n",
      "3 X 4 = 12\n",
      "3 X 5 = 15\n",
      "3 X 6 = 18\n",
      "3 X 7 = 21\n",
      "3 X 8 = 24\n",
      "3 X 9 = 27\n",
      "\n",
      "\n",
      "==== 4 단=====\n",
      "4 X 1 = 4\n",
      "4 X 2 = 8\n",
      "4 X 3 = 12\n",
      "4 X 4 = 16\n",
      "4 X 5 = 20\n",
      "4 X 6 = 24\n",
      "4 X 7 = 28\n",
      "4 X 8 = 32\n",
      "4 X 9 = 36\n",
      "\n",
      "\n",
      "==== 5 단=====\n",
      "5 X 1 = 5\n",
      "5 X 2 = 10\n",
      "5 X 3 = 15\n",
      "5 X 4 = 20\n",
      "5 X 5 = 25\n",
      "5 X 6 = 30\n",
      "5 X 7 = 35\n",
      "5 X 8 = 40\n",
      "5 X 9 = 45\n",
      "\n",
      "\n",
      "==== 6 단=====\n",
      "6 X 1 = 6\n",
      "6 X 2 = 12\n",
      "6 X 3 = 18\n",
      "6 X 4 = 24\n",
      "6 X 5 = 30\n",
      "6 X 6 = 36\n",
      "6 X 7 = 42\n",
      "6 X 8 = 48\n",
      "6 X 9 = 54\n",
      "\n",
      "\n",
      "==== 7 단=====\n",
      "7 X 1 = 7\n",
      "7 X 2 = 14\n",
      "7 X 3 = 21\n",
      "7 X 4 = 28\n",
      "7 X 5 = 35\n",
      "7 X 6 = 42\n",
      "7 X 7 = 49\n",
      "7 X 8 = 56\n",
      "7 X 9 = 63\n",
      "\n",
      "\n",
      "==== 8 단=====\n",
      "8 X 1 = 8\n",
      "8 X 2 = 16\n",
      "8 X 3 = 24\n",
      "8 X 4 = 32\n",
      "8 X 5 = 40\n",
      "8 X 6 = 48\n",
      "8 X 7 = 56\n",
      "8 X 8 = 64\n",
      "8 X 9 = 72\n",
      "\n",
      "\n",
      "==== 9 단=====\n",
      "9 X 1 = 9\n",
      "9 X 2 = 18\n",
      "9 X 3 = 27\n",
      "9 X 4 = 36\n",
      "9 X 5 = 45\n",
      "9 X 6 = 54\n",
      "9 X 7 = 63\n",
      "9 X 8 = 72\n",
      "9 X 9 = 81\n",
      "\n",
      "\n"
     ]
    }
   ],
   "source": [
    "# 1) for문을 두 번 사용해 19단 곱셈표의 수식까지 출력하기\n",
    "\n",
    "for i in range(2, 10):\n",
    "    print(\"====\", i, \"단=====\")\n",
    "    for j in range(1, 10):\n",
    "        print(i, \"X\", j, \"=\", i*j)\n",
    "    print(\"\\n\")"
   ]
  },
  {
   "cell_type": "code",
   "execution_count": 28,
   "id": "4726f38d-43c6-41a1-953a-12145619e474",
   "metadata": {},
   "outputs": [
    {
     "name": "stdout",
     "output_type": "stream",
     "text": [
      "==== 2 단=====\n",
      "2 X 1 = 2\n",
      "2 X 2 = 4\n",
      "2 X 3 = 6\n",
      "2 X 4 = 8\n",
      "2 X 5 = 10\n",
      "2 X 6 = 12\n",
      "2 X 7 = 14\n",
      "2 X 8 = 16\n",
      "2 X 9 = 18\n",
      "\n",
      "\n",
      "==== 3 단=====\n",
      "3 X 1 = 3\n",
      "3 X 2 = 6\n",
      "3 X 3 = 9\n",
      "3 X 4 = 12\n",
      "3 X 5 = 15\n",
      "3 X 6 = 18\n",
      "3 X 7 = 21\n",
      "3 X 8 = 24\n",
      "3 X 9 = 27\n",
      "\n",
      "\n",
      "==== 4 단=====\n",
      "4 X 1 = 4\n",
      "4 X 2 = 8\n",
      "4 X 3 = 12\n",
      "4 X 4 = 16\n",
      "4 X 5 = 20\n",
      "4 X 6 = 24\n",
      "4 X 7 = 28\n",
      "4 X 8 = 32\n",
      "4 X 9 = 36\n",
      "\n",
      "\n",
      "==== 5 단=====\n",
      "5 X 1 = 5\n",
      "5 X 2 = 10\n",
      "5 X 3 = 15\n",
      "5 X 4 = 20\n",
      "5 X 5 = 25\n",
      "5 X 6 = 30\n",
      "5 X 7 = 35\n",
      "5 X 8 = 40\n",
      "5 X 9 = 45\n",
      "\n",
      "\n",
      "==== 6 단=====\n",
      "6 X 1 = 6\n",
      "6 X 2 = 12\n",
      "6 X 3 = 18\n",
      "6 X 4 = 24\n",
      "6 X 5 = 30\n",
      "6 X 6 = 36\n",
      "6 X 7 = 42\n",
      "6 X 8 = 48\n",
      "6 X 9 = 54\n",
      "\n",
      "\n",
      "==== 7 단=====\n",
      "7 X 1 = 7\n",
      "7 X 2 = 14\n",
      "7 X 3 = 21\n",
      "7 X 4 = 28\n",
      "7 X 5 = 35\n",
      "7 X 6 = 42\n",
      "7 X 7 = 49\n",
      "7 X 8 = 56\n",
      "7 X 9 = 63\n",
      "\n",
      "\n",
      "==== 8 단=====\n",
      "8 X 1 = 8\n",
      "8 X 2 = 16\n",
      "8 X 3 = 24\n",
      "8 X 4 = 32\n",
      "8 X 5 = 40\n",
      "8 X 6 = 48\n",
      "8 X 7 = 56\n",
      "8 X 8 = 64\n",
      "8 X 9 = 72\n",
      "\n",
      "\n",
      "==== 9 단=====\n",
      "9 X 1 = 9\n",
      "9 X 2 = 18\n",
      "9 X 3 = 27\n",
      "9 X 4 = 36\n",
      "9 X 5 = 45\n",
      "9 X 6 = 54\n",
      "9 X 7 = 63\n",
      "9 X 8 = 72\n",
      "9 X 9 = 81\n",
      "\n",
      "\n"
     ]
    }
   ],
   "source": [
    "# 2) 문자열 포매팅으로 print() 함수 더 편하게 사용하기\n",
    "\n",
    "for i in range(2, 10):\n",
    "    print(\"====\", i, \"단=====\")\n",
    "    for j in range(1, 10):\n",
    "        print(\"%d X %d = %d\" %(i, j, i*j))\n",
    "    print(\"\\n\")"
   ]
  },
  {
   "cell_type": "markdown",
   "id": "96994420-346e-446f-a187-66a763dfdc15",
   "metadata": {},
   "source": [
    "<hr>"
   ]
  },
  {
   "cell_type": "markdown",
   "id": "bd83255a-95df-45ed-ac6d-57351198e31c",
   "metadata": {},
   "source": [
    "## Outro.\n",
    "- round 함수 사용법 : round(숫자, 표시할 소수점 자릿수)"
   ]
  }
 ],
 "metadata": {
  "kernelspec": {
   "display_name": "Python 3 (ipykernel)",
   "language": "python",
   "name": "python3"
  },
  "language_info": {
   "codemirror_mode": {
    "name": "ipython",
    "version": 3
   },
   "file_extension": ".py",
   "mimetype": "text/x-python",
   "name": "python",
   "nbconvert_exporter": "python",
   "pygments_lexer": "ipython3",
   "version": "3.8.12"
  }
 },
 "nbformat": 4,
 "nbformat_minor": 5
}
