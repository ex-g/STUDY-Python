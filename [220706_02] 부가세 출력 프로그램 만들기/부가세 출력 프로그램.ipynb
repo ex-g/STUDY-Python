{
 "cells": [
  {
   "cell_type": "markdown",
   "id": "d4419b12-3eb0-4348-bcbe-7787c80858dd",
   "metadata": {},
   "source": [
    "# 2022.07.06(수) | Do it! 파이썬 생활 프로그래밍"
   ]
  },
  {
   "cell_type": "markdown",
   "id": "6430174a-0776-49de-9935-1398c9be8580",
   "metadata": {},
   "source": [
    "## Intro.\n",
    "#### Chapter 02. 기초 문법으로 프로그램 만들기\n",
    "#### Task : 부가세 출력 프로그램 만들기"
   ]
  },
  {
   "cell_type": "markdown",
   "id": "b6802407-e5a3-47c8-bd71-c094f5cc075f",
   "metadata": {},
   "source": [
    "<hr>"
   ]
  },
  {
   "cell_type": "markdown",
   "id": "d569761d-5815-4e48-87a9-c5a3edd428cd",
   "metadata": {
    "tags": []
   },
   "source": [
    "### 1. lambda 함수 사용법 "
   ]
  },
  {
   "cell_type": "code",
   "execution_count": 4,
   "id": "46f11b9c-9194-4a2f-95ac-95ed12051d9e",
   "metadata": {},
   "outputs": [
    {
     "data": {
      "text/plain": [
       "36"
      ]
     },
     "execution_count": 4,
     "metadata": {},
     "output_type": "execute_result"
    }
   ],
   "source": [
    "# 주어진 수에 3을 곱하는 함수 만들기\n",
    "function = lambda x : 3 * x\n",
    "function(12)"
   ]
  },
  {
   "cell_type": "code",
   "execution_count": 8,
   "id": "aa23ac1a-09dc-4205-a68e-35090b692975",
   "metadata": {},
   "outputs": [
    {
     "data": {
      "text/plain": [
       "'하나 둘 셋 넷 다'"
      ]
     },
     "execution_count": 8,
     "metadata": {},
     "output_type": "execute_result"
    }
   ],
   "source": [
    "# 주어진 문자열을 10글자만 출력하는 함수 만들기\n",
    "num = \"하나 둘 셋 넷 다섯 여섯 일곱 여덞 아홉 열\"\n",
    "function2 = lambda x : x[:10]\n",
    "function2(num)"
   ]
  },
  {
   "cell_type": "code",
   "execution_count": 19,
   "id": "cca6966e-e817-45ee-8b72-8449f2c2c299",
   "metadata": {},
   "outputs": [
    {
     "name": "stdin",
     "output_type": "stream",
     "text": [
      " 10000\n"
     ]
    },
    {
     "name": "stdout",
     "output_type": "stream",
     "text": [
      "10000 원은 2022년 7월 6일 기준 7.6 $입니다.\n"
     ]
    }
   ],
   "source": [
    "# 환율 계산기 만들기 : 2022.07.06 기준 환율 (1000원 = 0.76$)\n",
    "money = int(input())\n",
    "if money < 1000:\n",
    "    print(\"1000 이상의 수를 입력해주세요.\")\n",
    "else:\n",
    "    exchange = lambda won : won * 0.00076\n",
    "    print(money, \"원은 2022년 7월 6일 기준\", round(exchange(money), 2), \"$입니다.\")"
   ]
  },
  {
   "cell_type": "markdown",
   "id": "5e3de627-be3e-4f64-bad7-85ea47d7ec0b",
   "metadata": {},
   "source": [
    "### 2. 제공하는 서비스의 부가세 포함 여부를 입력받아 총 가격 알아내기"
   ]
  },
  {
   "cell_type": "code",
   "execution_count": 52,
   "id": "d0462d25-3244-4fc8-9490-a78bda6e5273",
   "metadata": {},
   "outputs": [
    {
     "name": "stdin",
     "output_type": "stream",
     "text": [
      "원하시는 서비스를 선택해주세요. (a/b/c) :  c\n",
      "부가세가 포함되어 있는 서비스입니까? (y/n) :  n\n"
     ]
    },
    {
     "name": "stdout",
     "output_type": "stream",
     "text": [
      "선택하신 서비스의 총 가격은 72.6 원입니다.\n"
     ]
    }
   ],
   "source": [
    "def total_price(service_dict):\n",
    "    service = input(\"원하시는 서비스를 선택해주세요. (a/b/c) : \")\n",
    "    answer = input(\"부가세가 포함되어 있는 서비스입니까? (y/n) : \")\n",
    "    \n",
    "    if answer == \"y\":\n",
    "        return service_dict[service]\n",
    "    else:\n",
    "        add = lambda x : x * 1.1\n",
    "        return round(add(service_dict[service]), 2)\n",
    "\n",
    "service_dict = {'a' : 27, 'b' : 35, 'c' : 66}\n",
    "print(\"선택하신 서비스의 총 가격은\", total_price(service_dict), \"원입니다.\")"
   ]
  },
  {
   "cell_type": "markdown",
   "id": "52a8e2d1-913d-40af-a4c8-d18ab1db22c1",
   "metadata": {},
   "source": [
    "<hr>"
   ]
  },
  {
   "cell_type": "markdown",
   "id": "13b22ffb-582e-4f0e-87b2-52724d93008f",
   "metadata": {},
   "source": [
    "## Outro.\n",
    "- topics\n",
    "    - lambda\n",
    "    - def\n",
    "    - input()\n",
    "    - type()\n",
    "    - if ~ else"
   ]
  }
 ],
 "metadata": {
  "kernelspec": {
   "display_name": "Python 3 (ipykernel)",
   "language": "python",
   "name": "python3"
  },
  "language_info": {
   "codemirror_mode": {
    "name": "ipython",
    "version": 3
   },
   "file_extension": ".py",
   "mimetype": "text/x-python",
   "name": "python",
   "nbconvert_exporter": "python",
   "pygments_lexer": "ipython3",
   "version": "3.8.12"
  }
 },
 "nbformat": 4,
 "nbformat_minor": 5
}
